{
 "cells": [
  {
   "cell_type": "markdown",
   "metadata": {},
   "source": [
    "Download the [dataset from kaggle](https://www.kaggle.com/c/ncaam-march-mania-2021/data)."
   ]
  },
  {
   "cell_type": "code",
   "execution_count": 1,
   "metadata": {},
   "outputs": [],
   "source": [
    "import numpy as np\n",
    "import pandas as pd"
   ]
  },
  {
   "cell_type": "code",
   "execution_count": 2,
   "metadata": {},
   "outputs": [
    {
     "output_type": "execute_result",
     "data": {
      "text/plain": [
       "      Season Seed  TeamID\n",
       "0       1985  W01    1207\n",
       "1       1985  W02    1210\n",
       "2       1985  W03    1228\n",
       "3       1985  W04    1260\n",
       "4       1985  W05    1374\n",
       "...      ...  ...     ...\n",
       "2281    2019  Z12    1332\n",
       "2282    2019  Z13    1414\n",
       "2283    2019  Z14    1330\n",
       "2284    2019  Z15    1159\n",
       "2285    2019  Z16    1205\n",
       "\n",
       "[2286 rows x 3 columns]"
      ],
      "text/html": "<div>\n<style scoped>\n    .dataframe tbody tr th:only-of-type {\n        vertical-align: middle;\n    }\n\n    .dataframe tbody tr th {\n        vertical-align: top;\n    }\n\n    .dataframe thead th {\n        text-align: right;\n    }\n</style>\n<table border=\"1\" class=\"dataframe\">\n  <thead>\n    <tr style=\"text-align: right;\">\n      <th></th>\n      <th>Season</th>\n      <th>Seed</th>\n      <th>TeamID</th>\n    </tr>\n  </thead>\n  <tbody>\n    <tr>\n      <th>0</th>\n      <td>1985</td>\n      <td>W01</td>\n      <td>1207</td>\n    </tr>\n    <tr>\n      <th>1</th>\n      <td>1985</td>\n      <td>W02</td>\n      <td>1210</td>\n    </tr>\n    <tr>\n      <th>2</th>\n      <td>1985</td>\n      <td>W03</td>\n      <td>1228</td>\n    </tr>\n    <tr>\n      <th>3</th>\n      <td>1985</td>\n      <td>W04</td>\n      <td>1260</td>\n    </tr>\n    <tr>\n      <th>4</th>\n      <td>1985</td>\n      <td>W05</td>\n      <td>1374</td>\n    </tr>\n    <tr>\n      <th>...</th>\n      <td>...</td>\n      <td>...</td>\n      <td>...</td>\n    </tr>\n    <tr>\n      <th>2281</th>\n      <td>2019</td>\n      <td>Z12</td>\n      <td>1332</td>\n    </tr>\n    <tr>\n      <th>2282</th>\n      <td>2019</td>\n      <td>Z13</td>\n      <td>1414</td>\n    </tr>\n    <tr>\n      <th>2283</th>\n      <td>2019</td>\n      <td>Z14</td>\n      <td>1330</td>\n    </tr>\n    <tr>\n      <th>2284</th>\n      <td>2019</td>\n      <td>Z15</td>\n      <td>1159</td>\n    </tr>\n    <tr>\n      <th>2285</th>\n      <td>2019</td>\n      <td>Z16</td>\n      <td>1205</td>\n    </tr>\n  </tbody>\n</table>\n<p>2286 rows × 3 columns</p>\n</div>"
     },
     "metadata": {},
     "execution_count": 2
    }
   ],
   "source": [
    "fdr = 'ncaam-march-mania-2021/'\n",
    "def load(fname):\n",
    "    return pd.read_csv(f'{fdr}{fname}')\n",
    "seeds = load('MNCAATourneySeeds.csv')\n",
    "seeds"
   ]
  },
  {
   "cell_type": "code",
   "execution_count": 3,
   "metadata": {},
   "outputs": [
    {
     "output_type": "execute_result",
     "data": {
      "text/plain": [
       "      Season  DayNum  WTeamID  WScore  LTeamID  LScore WLoc  NumOT\n",
       "0       1985     136     1116      63     1234      54    N      0\n",
       "1       1985     136     1120      59     1345      58    N      0\n",
       "2       1985     136     1207      68     1250      43    N      0\n",
       "3       1985     136     1229      58     1425      55    N      0\n",
       "4       1985     136     1242      49     1325      38    N      0\n",
       "...      ...     ...      ...     ...      ...     ...  ...    ...\n",
       "2246    2019     146     1120      77     1246      71    N      1\n",
       "2247    2019     146     1277      68     1181      67    N      0\n",
       "2248    2019     152     1403      61     1277      51    N      0\n",
       "2249    2019     152     1438      63     1120      62    N      0\n",
       "2250    2019     154     1438      85     1403      77    N      1\n",
       "\n",
       "[2251 rows x 8 columns]"
      ],
      "text/html": "<div>\n<style scoped>\n    .dataframe tbody tr th:only-of-type {\n        vertical-align: middle;\n    }\n\n    .dataframe tbody tr th {\n        vertical-align: top;\n    }\n\n    .dataframe thead th {\n        text-align: right;\n    }\n</style>\n<table border=\"1\" class=\"dataframe\">\n  <thead>\n    <tr style=\"text-align: right;\">\n      <th></th>\n      <th>Season</th>\n      <th>DayNum</th>\n      <th>WTeamID</th>\n      <th>WScore</th>\n      <th>LTeamID</th>\n      <th>LScore</th>\n      <th>WLoc</th>\n      <th>NumOT</th>\n    </tr>\n  </thead>\n  <tbody>\n    <tr>\n      <th>0</th>\n      <td>1985</td>\n      <td>136</td>\n      <td>1116</td>\n      <td>63</td>\n      <td>1234</td>\n      <td>54</td>\n      <td>N</td>\n      <td>0</td>\n    </tr>\n    <tr>\n      <th>1</th>\n      <td>1985</td>\n      <td>136</td>\n      <td>1120</td>\n      <td>59</td>\n      <td>1345</td>\n      <td>58</td>\n      <td>N</td>\n      <td>0</td>\n    </tr>\n    <tr>\n      <th>2</th>\n      <td>1985</td>\n      <td>136</td>\n      <td>1207</td>\n      <td>68</td>\n      <td>1250</td>\n      <td>43</td>\n      <td>N</td>\n      <td>0</td>\n    </tr>\n    <tr>\n      <th>3</th>\n      <td>1985</td>\n      <td>136</td>\n      <td>1229</td>\n      <td>58</td>\n      <td>1425</td>\n      <td>55</td>\n      <td>N</td>\n      <td>0</td>\n    </tr>\n    <tr>\n      <th>4</th>\n      <td>1985</td>\n      <td>136</td>\n      <td>1242</td>\n      <td>49</td>\n      <td>1325</td>\n      <td>38</td>\n      <td>N</td>\n      <td>0</td>\n    </tr>\n    <tr>\n      <th>...</th>\n      <td>...</td>\n      <td>...</td>\n      <td>...</td>\n      <td>...</td>\n      <td>...</td>\n      <td>...</td>\n      <td>...</td>\n      <td>...</td>\n    </tr>\n    <tr>\n      <th>2246</th>\n      <td>2019</td>\n      <td>146</td>\n      <td>1120</td>\n      <td>77</td>\n      <td>1246</td>\n      <td>71</td>\n      <td>N</td>\n      <td>1</td>\n    </tr>\n    <tr>\n      <th>2247</th>\n      <td>2019</td>\n      <td>146</td>\n      <td>1277</td>\n      <td>68</td>\n      <td>1181</td>\n      <td>67</td>\n      <td>N</td>\n      <td>0</td>\n    </tr>\n    <tr>\n      <th>2248</th>\n      <td>2019</td>\n      <td>152</td>\n      <td>1403</td>\n      <td>61</td>\n      <td>1277</td>\n      <td>51</td>\n      <td>N</td>\n      <td>0</td>\n    </tr>\n    <tr>\n      <th>2249</th>\n      <td>2019</td>\n      <td>152</td>\n      <td>1438</td>\n      <td>63</td>\n      <td>1120</td>\n      <td>62</td>\n      <td>N</td>\n      <td>0</td>\n    </tr>\n    <tr>\n      <th>2250</th>\n      <td>2019</td>\n      <td>154</td>\n      <td>1438</td>\n      <td>85</td>\n      <td>1403</td>\n      <td>77</td>\n      <td>N</td>\n      <td>1</td>\n    </tr>\n  </tbody>\n</table>\n<p>2251 rows × 8 columns</p>\n</div>"
     },
     "metadata": {},
     "execution_count": 3
    }
   ],
   "source": [
    "tourney = load('MNCAATourneyCompactResults.csv')\n",
    "tourney"
   ]
  },
  {
   "cell_type": "code",
   "execution_count": 4,
   "metadata": {},
   "outputs": [
    {
     "output_type": "execute_result",
     "data": {
      "text/plain": [
       "       Season  DayNum  WTeamID  WScore  LTeamID  LScore WLoc  NumOT  WFGM  \\\n",
       "82041    2019       1     1104      82     1380      62    H      0    27   \n",
       "82042    2019       1     1113     102     1168      94    H      0    33   \n",
       "82043    2019       1     1119      73     1265      69    H      0    22   \n",
       "82044    2019       1     1120     101     1375      58    H      0    38   \n",
       "82045    2019       1     1123      86     1232      69    H      0    32   \n",
       "...       ...     ...      ...     ...      ...     ...  ...    ...   ...   \n",
       "87499    2019     132     1153      69     1222      57    N      0    22   \n",
       "87500    2019     132     1209      73     1426      64    N      0    20   \n",
       "87501    2019     132     1277      65     1276      60    N      0    22   \n",
       "87502    2019     132     1387      55     1382      53    N      0    22   \n",
       "87503    2019     132     1463      97     1217      85    H      0    32   \n",
       "\n",
       "       WFGA  ...  LFGA3  LFTM  LFTA  LOR  LDR  LAst  LTO  LStl  LBlk  LPF  \n",
       "82041    55  ...     17    17    30   11   20     8   15     7     2   28  \n",
       "82042    78  ...     24    19    26    7   35     7   17     7     3   36  \n",
       "82043    51  ...     15    12    24    9   27     8   12     4     0   23  \n",
       "82044    74  ...     22    17    22    8   19     9   22     4     5   17  \n",
       "82045    65  ...     12    11    18   18   20    11   11     6     5   20  \n",
       "...     ...  ...    ...   ...   ...  ...  ...   ...  ...   ...   ...  ...  \n",
       "87499    50  ...     33    11    18   17   16     8    7     2     4   19  \n",
       "87500    50  ...     33    11    17   13   28    12   14     5     2   24  \n",
       "87501    55  ...     25    10    12    3   26    17    6     5     5   11  \n",
       "87502    59  ...     19     8    10   13   30     9   11     2     7   16  \n",
       "87503    53  ...     32    19    24   12   15     7    9     1     2   22  \n",
       "\n",
       "[5463 rows x 34 columns]"
      ],
      "text/html": "<div>\n<style scoped>\n    .dataframe tbody tr th:only-of-type {\n        vertical-align: middle;\n    }\n\n    .dataframe tbody tr th {\n        vertical-align: top;\n    }\n\n    .dataframe thead th {\n        text-align: right;\n    }\n</style>\n<table border=\"1\" class=\"dataframe\">\n  <thead>\n    <tr style=\"text-align: right;\">\n      <th></th>\n      <th>Season</th>\n      <th>DayNum</th>\n      <th>WTeamID</th>\n      <th>WScore</th>\n      <th>LTeamID</th>\n      <th>LScore</th>\n      <th>WLoc</th>\n      <th>NumOT</th>\n      <th>WFGM</th>\n      <th>WFGA</th>\n      <th>...</th>\n      <th>LFGA3</th>\n      <th>LFTM</th>\n      <th>LFTA</th>\n      <th>LOR</th>\n      <th>LDR</th>\n      <th>LAst</th>\n      <th>LTO</th>\n      <th>LStl</th>\n      <th>LBlk</th>\n      <th>LPF</th>\n    </tr>\n  </thead>\n  <tbody>\n    <tr>\n      <th>82041</th>\n      <td>2019</td>\n      <td>1</td>\n      <td>1104</td>\n      <td>82</td>\n      <td>1380</td>\n      <td>62</td>\n      <td>H</td>\n      <td>0</td>\n      <td>27</td>\n      <td>55</td>\n      <td>...</td>\n      <td>17</td>\n      <td>17</td>\n      <td>30</td>\n      <td>11</td>\n      <td>20</td>\n      <td>8</td>\n      <td>15</td>\n      <td>7</td>\n      <td>2</td>\n      <td>28</td>\n    </tr>\n    <tr>\n      <th>82042</th>\n      <td>2019</td>\n      <td>1</td>\n      <td>1113</td>\n      <td>102</td>\n      <td>1168</td>\n      <td>94</td>\n      <td>H</td>\n      <td>0</td>\n      <td>33</td>\n      <td>78</td>\n      <td>...</td>\n      <td>24</td>\n      <td>19</td>\n      <td>26</td>\n      <td>7</td>\n      <td>35</td>\n      <td>7</td>\n      <td>17</td>\n      <td>7</td>\n      <td>3</td>\n      <td>36</td>\n    </tr>\n    <tr>\n      <th>82043</th>\n      <td>2019</td>\n      <td>1</td>\n      <td>1119</td>\n      <td>73</td>\n      <td>1265</td>\n      <td>69</td>\n      <td>H</td>\n      <td>0</td>\n      <td>22</td>\n      <td>51</td>\n      <td>...</td>\n      <td>15</td>\n      <td>12</td>\n      <td>24</td>\n      <td>9</td>\n      <td>27</td>\n      <td>8</td>\n      <td>12</td>\n      <td>4</td>\n      <td>0</td>\n      <td>23</td>\n    </tr>\n    <tr>\n      <th>82044</th>\n      <td>2019</td>\n      <td>1</td>\n      <td>1120</td>\n      <td>101</td>\n      <td>1375</td>\n      <td>58</td>\n      <td>H</td>\n      <td>0</td>\n      <td>38</td>\n      <td>74</td>\n      <td>...</td>\n      <td>22</td>\n      <td>17</td>\n      <td>22</td>\n      <td>8</td>\n      <td>19</td>\n      <td>9</td>\n      <td>22</td>\n      <td>4</td>\n      <td>5</td>\n      <td>17</td>\n    </tr>\n    <tr>\n      <th>82045</th>\n      <td>2019</td>\n      <td>1</td>\n      <td>1123</td>\n      <td>86</td>\n      <td>1232</td>\n      <td>69</td>\n      <td>H</td>\n      <td>0</td>\n      <td>32</td>\n      <td>65</td>\n      <td>...</td>\n      <td>12</td>\n      <td>11</td>\n      <td>18</td>\n      <td>18</td>\n      <td>20</td>\n      <td>11</td>\n      <td>11</td>\n      <td>6</td>\n      <td>5</td>\n      <td>20</td>\n    </tr>\n    <tr>\n      <th>...</th>\n      <td>...</td>\n      <td>...</td>\n      <td>...</td>\n      <td>...</td>\n      <td>...</td>\n      <td>...</td>\n      <td>...</td>\n      <td>...</td>\n      <td>...</td>\n      <td>...</td>\n      <td>...</td>\n      <td>...</td>\n      <td>...</td>\n      <td>...</td>\n      <td>...</td>\n      <td>...</td>\n      <td>...</td>\n      <td>...</td>\n      <td>...</td>\n      <td>...</td>\n      <td>...</td>\n    </tr>\n    <tr>\n      <th>87499</th>\n      <td>2019</td>\n      <td>132</td>\n      <td>1153</td>\n      <td>69</td>\n      <td>1222</td>\n      <td>57</td>\n      <td>N</td>\n      <td>0</td>\n      <td>22</td>\n      <td>50</td>\n      <td>...</td>\n      <td>33</td>\n      <td>11</td>\n      <td>18</td>\n      <td>17</td>\n      <td>16</td>\n      <td>8</td>\n      <td>7</td>\n      <td>2</td>\n      <td>4</td>\n      <td>19</td>\n    </tr>\n    <tr>\n      <th>87500</th>\n      <td>2019</td>\n      <td>132</td>\n      <td>1209</td>\n      <td>73</td>\n      <td>1426</td>\n      <td>64</td>\n      <td>N</td>\n      <td>0</td>\n      <td>20</td>\n      <td>50</td>\n      <td>...</td>\n      <td>33</td>\n      <td>11</td>\n      <td>17</td>\n      <td>13</td>\n      <td>28</td>\n      <td>12</td>\n      <td>14</td>\n      <td>5</td>\n      <td>2</td>\n      <td>24</td>\n    </tr>\n    <tr>\n      <th>87501</th>\n      <td>2019</td>\n      <td>132</td>\n      <td>1277</td>\n      <td>65</td>\n      <td>1276</td>\n      <td>60</td>\n      <td>N</td>\n      <td>0</td>\n      <td>22</td>\n      <td>55</td>\n      <td>...</td>\n      <td>25</td>\n      <td>10</td>\n      <td>12</td>\n      <td>3</td>\n      <td>26</td>\n      <td>17</td>\n      <td>6</td>\n      <td>5</td>\n      <td>5</td>\n      <td>11</td>\n    </tr>\n    <tr>\n      <th>87502</th>\n      <td>2019</td>\n      <td>132</td>\n      <td>1387</td>\n      <td>55</td>\n      <td>1382</td>\n      <td>53</td>\n      <td>N</td>\n      <td>0</td>\n      <td>22</td>\n      <td>59</td>\n      <td>...</td>\n      <td>19</td>\n      <td>8</td>\n      <td>10</td>\n      <td>13</td>\n      <td>30</td>\n      <td>9</td>\n      <td>11</td>\n      <td>2</td>\n      <td>7</td>\n      <td>16</td>\n    </tr>\n    <tr>\n      <th>87503</th>\n      <td>2019</td>\n      <td>132</td>\n      <td>1463</td>\n      <td>97</td>\n      <td>1217</td>\n      <td>85</td>\n      <td>H</td>\n      <td>0</td>\n      <td>32</td>\n      <td>53</td>\n      <td>...</td>\n      <td>32</td>\n      <td>19</td>\n      <td>24</td>\n      <td>12</td>\n      <td>15</td>\n      <td>7</td>\n      <td>9</td>\n      <td>1</td>\n      <td>2</td>\n      <td>22</td>\n    </tr>\n  </tbody>\n</table>\n<p>5463 rows × 34 columns</p>\n</div>"
     },
     "metadata": {},
     "execution_count": 4
    }
   ],
   "source": [
    "regular_season = load('MRegularSeasonDetailedResults.csv')\n",
    "# regular_season\n",
    "regular_season[regular_season.Season == 2019]"
   ]
  },
  {
   "cell_type": "code",
   "execution_count": 5,
   "metadata": {},
   "outputs": [
    {
     "output_type": "execute_result",
     "data": {
      "text/plain": [
       "Index(['Season', 'DayNum', 'WTeamID', 'WScore', 'LTeamID', 'LScore', 'WLoc',\n",
       "       'NumOT', 'WFGM', 'WFGA', 'WFGM3', 'WFGA3', 'WFTM', 'WFTA', 'WOR', 'WDR',\n",
       "       'WAst', 'WTO', 'WStl', 'WBlk', 'WPF', 'LFGM', 'LFGA', 'LFGM3', 'LFGA3',\n",
       "       'LFTM', 'LFTA', 'LOR', 'LDR', 'LAst', 'LTO', 'LStl', 'LBlk', 'LPF'],\n",
       "      dtype='object')"
      ]
     },
     "metadata": {},
     "execution_count": 5
    }
   ],
   "source": [
    "regular_season.columns"
   ]
  },
  {
   "cell_type": "markdown",
   "metadata": {},
   "source": [
    "Let's compile season, seeds, winning percentage, points allowed per game, points per game, FG%, FG3%, offensive rebounds per game, defensive rebounds per game, FT%, assists per game, blocks per game, steals per game, fouls per game, and turnovers per game for each team. \n",
    "We also add per-posession statistics for each team, including offensive and defensive [rating](https://en.wikipedia.org/wiki/Advanced_statistics_in_basketball#Common_statistics)."
   ]
  },
  {
   "cell_type": "code",
   "execution_count": 6,
   "metadata": {},
   "outputs": [
    {
     "output_type": "execute_result",
     "data": {
      "text/plain": [
       "     season seed        wp       papg        ppg       fgp      fgp3  \\\n",
       "1421   2003   16  0.448276  78.448276  71.206897  0.429265  0.360153   \n",
       "1411   2003   16  0.600000  70.833333  72.800000  0.447527  0.320721   \n",
       "1112   2003    1  0.892857  70.250000  85.214286  0.461413  0.350534   \n",
       "1436   2003   16  0.655172  63.137931  67.793103  0.444444  0.340757   \n",
       "1113   2003   10  0.620690  69.172414  75.965517  0.478182  0.317808   \n",
       "...     ...  ...       ...        ...        ...       ...       ...   \n",
       "1205   2019   16  0.645161  73.419355  75.774194  0.477726  0.376766   \n",
       "1439   2019    4  0.750000  62.093750  74.000000  0.475476  0.394095   \n",
       "1387   2019   13  0.657143  63.742857  67.057143  0.418000  0.308282   \n",
       "1449   2019    9  0.764706  64.382353  69.823529  0.452575  0.346049   \n",
       "1429   2019    8  0.818182  67.090909  79.030303  0.474974  0.357143   \n",
       "\n",
       "           orpg       drpg       ftp        apg       bpg       spg  \\\n",
       "1421  12.275862  23.172414  0.762768  13.034483  3.000000  7.068966   \n",
       "1411  13.166667  24.800000  0.619952  14.200000  2.233333  6.433333   \n",
       "1112  15.178571  27.642857  0.701429  17.642857  4.214286  8.464286   \n",
       "1436  12.965517  25.724138  0.657848  14.206897  2.965517  6.862069   \n",
       "1113  13.689655  23.310345  0.669737  15.551724  4.241379  5.206897   \n",
       "...         ...        ...       ...        ...       ...       ...   \n",
       "1205   7.129032  25.741935  0.715994  13.612903  2.483871  6.225806   \n",
       "1439   8.906250  23.687500  0.757798  15.343750  2.312500  6.656250   \n",
       "1387  13.828571  25.942857  0.597730  12.971429  4.057143  7.085714   \n",
       "1449   9.470588  22.117647  0.694444  11.676471  5.735294  9.000000   \n",
       "1429  10.606061  29.454545  0.748222  17.090909  4.272727  6.121212   \n",
       "\n",
       "            fpg       topg  offensive_rating  defensive_rating      efgp  \\\n",
       "1421  19.103448  16.206897        104.963423        115.637669  0.600486   \n",
       "1411  18.300000  15.233333        107.313852        104.414805  0.608565   \n",
       "1112  17.750000  14.785714        114.985735         94.793353  0.622011   \n",
       "1436  15.896552  14.068966        106.588769         99.269601  0.586111   \n",
       "1113  19.413793  14.000000        113.603548        103.444719  0.583636   \n",
       "...         ...        ...               ...               ...       ...   \n",
       "1205  16.193548  11.774194        112.874952        109.367131  0.688746   \n",
       "1439  15.281250  11.375000        119.112292         99.947687  0.741200   \n",
       "1387  17.485714  12.714286        104.582188         99.413235  0.568750   \n",
       "1449  18.411765  13.352941        108.233398         99.799034  0.659079   \n",
       "1429  18.636364  12.545455        117.303741         99.582240  0.678311   \n",
       "\n",
       "      true_shooting_percentage  \n",
       "1421                  0.533502  \n",
       "1411                  0.530625  \n",
       "1112                  0.549137  \n",
       "1436                  0.520292  \n",
       "1113                  0.547737  \n",
       "...                        ...  \n",
       "1205                  0.580351  \n",
       "1439                  0.594415  \n",
       "1387                  0.493757  \n",
       "1449                  0.551375  \n",
       "1429                  0.579060  \n",
       "\n",
       "[1132 rows x 19 columns]"
      ],
      "text/html": "<div>\n<style scoped>\n    .dataframe tbody tr th:only-of-type {\n        vertical-align: middle;\n    }\n\n    .dataframe tbody tr th {\n        vertical-align: top;\n    }\n\n    .dataframe thead th {\n        text-align: right;\n    }\n</style>\n<table border=\"1\" class=\"dataframe\">\n  <thead>\n    <tr style=\"text-align: right;\">\n      <th></th>\n      <th>season</th>\n      <th>seed</th>\n      <th>wp</th>\n      <th>papg</th>\n      <th>ppg</th>\n      <th>fgp</th>\n      <th>fgp3</th>\n      <th>orpg</th>\n      <th>drpg</th>\n      <th>ftp</th>\n      <th>apg</th>\n      <th>bpg</th>\n      <th>spg</th>\n      <th>fpg</th>\n      <th>topg</th>\n      <th>offensive_rating</th>\n      <th>defensive_rating</th>\n      <th>efgp</th>\n      <th>true_shooting_percentage</th>\n    </tr>\n  </thead>\n  <tbody>\n    <tr>\n      <th>1421</th>\n      <td>2003</td>\n      <td>16</td>\n      <td>0.448276</td>\n      <td>78.448276</td>\n      <td>71.206897</td>\n      <td>0.429265</td>\n      <td>0.360153</td>\n      <td>12.275862</td>\n      <td>23.172414</td>\n      <td>0.762768</td>\n      <td>13.034483</td>\n      <td>3.000000</td>\n      <td>7.068966</td>\n      <td>19.103448</td>\n      <td>16.206897</td>\n      <td>104.963423</td>\n      <td>115.637669</td>\n      <td>0.600486</td>\n      <td>0.533502</td>\n    </tr>\n    <tr>\n      <th>1411</th>\n      <td>2003</td>\n      <td>16</td>\n      <td>0.600000</td>\n      <td>70.833333</td>\n      <td>72.800000</td>\n      <td>0.447527</td>\n      <td>0.320721</td>\n      <td>13.166667</td>\n      <td>24.800000</td>\n      <td>0.619952</td>\n      <td>14.200000</td>\n      <td>2.233333</td>\n      <td>6.433333</td>\n      <td>18.300000</td>\n      <td>15.233333</td>\n      <td>107.313852</td>\n      <td>104.414805</td>\n      <td>0.608565</td>\n      <td>0.530625</td>\n    </tr>\n    <tr>\n      <th>1112</th>\n      <td>2003</td>\n      <td>1</td>\n      <td>0.892857</td>\n      <td>70.250000</td>\n      <td>85.214286</td>\n      <td>0.461413</td>\n      <td>0.350534</td>\n      <td>15.178571</td>\n      <td>27.642857</td>\n      <td>0.701429</td>\n      <td>17.642857</td>\n      <td>4.214286</td>\n      <td>8.464286</td>\n      <td>17.750000</td>\n      <td>14.785714</td>\n      <td>114.985735</td>\n      <td>94.793353</td>\n      <td>0.622011</td>\n      <td>0.549137</td>\n    </tr>\n    <tr>\n      <th>1436</th>\n      <td>2003</td>\n      <td>16</td>\n      <td>0.655172</td>\n      <td>63.137931</td>\n      <td>67.793103</td>\n      <td>0.444444</td>\n      <td>0.340757</td>\n      <td>12.965517</td>\n      <td>25.724138</td>\n      <td>0.657848</td>\n      <td>14.206897</td>\n      <td>2.965517</td>\n      <td>6.862069</td>\n      <td>15.896552</td>\n      <td>14.068966</td>\n      <td>106.588769</td>\n      <td>99.269601</td>\n      <td>0.586111</td>\n      <td>0.520292</td>\n    </tr>\n    <tr>\n      <th>1113</th>\n      <td>2003</td>\n      <td>10</td>\n      <td>0.620690</td>\n      <td>69.172414</td>\n      <td>75.965517</td>\n      <td>0.478182</td>\n      <td>0.317808</td>\n      <td>13.689655</td>\n      <td>23.310345</td>\n      <td>0.669737</td>\n      <td>15.551724</td>\n      <td>4.241379</td>\n      <td>5.206897</td>\n      <td>19.413793</td>\n      <td>14.000000</td>\n      <td>113.603548</td>\n      <td>103.444719</td>\n      <td>0.583636</td>\n      <td>0.547737</td>\n    </tr>\n    <tr>\n      <th>...</th>\n      <td>...</td>\n      <td>...</td>\n      <td>...</td>\n      <td>...</td>\n      <td>...</td>\n      <td>...</td>\n      <td>...</td>\n      <td>...</td>\n      <td>...</td>\n      <td>...</td>\n      <td>...</td>\n      <td>...</td>\n      <td>...</td>\n      <td>...</td>\n      <td>...</td>\n      <td>...</td>\n      <td>...</td>\n      <td>...</td>\n      <td>...</td>\n    </tr>\n    <tr>\n      <th>1205</th>\n      <td>2019</td>\n      <td>16</td>\n      <td>0.645161</td>\n      <td>73.419355</td>\n      <td>75.774194</td>\n      <td>0.477726</td>\n      <td>0.376766</td>\n      <td>7.129032</td>\n      <td>25.741935</td>\n      <td>0.715994</td>\n      <td>13.612903</td>\n      <td>2.483871</td>\n      <td>6.225806</td>\n      <td>16.193548</td>\n      <td>11.774194</td>\n      <td>112.874952</td>\n      <td>109.367131</td>\n      <td>0.688746</td>\n      <td>0.580351</td>\n    </tr>\n    <tr>\n      <th>1439</th>\n      <td>2019</td>\n      <td>4</td>\n      <td>0.750000</td>\n      <td>62.093750</td>\n      <td>74.000000</td>\n      <td>0.475476</td>\n      <td>0.394095</td>\n      <td>8.906250</td>\n      <td>23.687500</td>\n      <td>0.757798</td>\n      <td>15.343750</td>\n      <td>2.312500</td>\n      <td>6.656250</td>\n      <td>15.281250</td>\n      <td>11.375000</td>\n      <td>119.112292</td>\n      <td>99.947687</td>\n      <td>0.741200</td>\n      <td>0.594415</td>\n    </tr>\n    <tr>\n      <th>1387</th>\n      <td>2019</td>\n      <td>13</td>\n      <td>0.657143</td>\n      <td>63.742857</td>\n      <td>67.057143</td>\n      <td>0.418000</td>\n      <td>0.308282</td>\n      <td>13.828571</td>\n      <td>25.942857</td>\n      <td>0.597730</td>\n      <td>12.971429</td>\n      <td>4.057143</td>\n      <td>7.085714</td>\n      <td>17.485714</td>\n      <td>12.714286</td>\n      <td>104.582188</td>\n      <td>99.413235</td>\n      <td>0.568750</td>\n      <td>0.493757</td>\n    </tr>\n    <tr>\n      <th>1449</th>\n      <td>2019</td>\n      <td>9</td>\n      <td>0.764706</td>\n      <td>64.382353</td>\n      <td>69.823529</td>\n      <td>0.452575</td>\n      <td>0.346049</td>\n      <td>9.470588</td>\n      <td>22.117647</td>\n      <td>0.694444</td>\n      <td>11.676471</td>\n      <td>5.735294</td>\n      <td>9.000000</td>\n      <td>18.411765</td>\n      <td>13.352941</td>\n      <td>108.233398</td>\n      <td>99.799034</td>\n      <td>0.659079</td>\n      <td>0.551375</td>\n    </tr>\n    <tr>\n      <th>1429</th>\n      <td>2019</td>\n      <td>8</td>\n      <td>0.818182</td>\n      <td>67.090909</td>\n      <td>79.030303</td>\n      <td>0.474974</td>\n      <td>0.357143</td>\n      <td>10.606061</td>\n      <td>29.454545</td>\n      <td>0.748222</td>\n      <td>17.090909</td>\n      <td>4.272727</td>\n      <td>6.121212</td>\n      <td>18.636364</td>\n      <td>12.545455</td>\n      <td>117.303741</td>\n      <td>99.582240</td>\n      <td>0.678311</td>\n      <td>0.579060</td>\n    </tr>\n  </tbody>\n</table>\n<p>1132 rows × 19 columns</p>\n</div>"
     },
     "metadata": {},
     "execution_count": 6
    }
   ],
   "source": [
    "class SeasonStats:\n",
    "    def __init__(self, year):\n",
    "        self.year = year\n",
    "        self.data = regular_season[regular_season.Season == year]\n",
    "        self.stats = pd.DataFrame(columns=['season', 'seed', 'wp', 'papg', 'ppg', 'fgp', 'fgp3', 'orpg', \\\n",
    "                                          'drpg', 'ftp', 'apg', 'bpg', \\\n",
    "                                          'spg', 'fpg', 'topg', 'offensive_rating', 'defensive_rating', 'efgp', 'true_shooting_percentage'])\n",
    "        self.relevant_teams = pd.unique(tourney[tourney.Season == year] \\\n",
    "                                       [['WTeamID', 'LTeamID']].stack())\n",
    "        \n",
    "    def get_stats(self):\n",
    "        for team in self.relevant_teams:\n",
    "            losing_data = self.data[self.data.LTeamID == team]\n",
    "            winning_data = self.data[self.data.WTeamID == team]\n",
    "            n = len(losing_data)+len(winning_data)\n",
    "            def pg_stat(abbr):\n",
    "                return (losing_data[f'L{abbr}'].sum() \\\n",
    "                        +winning_data[f'W{abbr}'].sum())/n\n",
    "            def total_stat(abbr):\n",
    "                return losing_data[f'L{abbr}'].sum() + winning_data[f'W{abbr}'].sum()\n",
    "\n",
    "            season = self.year\n",
    "            seed = int(''.join(char for char in seeds[(seeds.Season == self.year)&(seeds.TeamID == team)]['Seed'] \\\n",
    "                            .item() if char.isdigit()))\n",
    "            wp = len(winning_data)/n\n",
    "            papg = (losing_data['WScore'].sum()+winning_data['LScore'].sum())/n\n",
    "            ppg = pg_stat('Score')\n",
    "            fgp = (losing_data['LFGM'].sum()+winning_data['WFGM'].sum())/ \\\n",
    "                    (losing_data['LFGA'].sum()+winning_data['WFGA'].sum())\n",
    "            fgp3 = (losing_data['LFGM3'].sum()+winning_data['WFGM3'].sum())/ \\\n",
    "                    (losing_data['LFGA3'].sum()+winning_data['WFGA3'].sum())\n",
    "            orpg = pg_stat('OR')\n",
    "            drpg = pg_stat('DR')\n",
    "            ftp = (losing_data['LFTM'].sum()+winning_data['WFTM'].sum())/ \\\n",
    "                    (losing_data['LFTA'].sum()+winning_data['WFTA'].sum())\n",
    "            apg = pg_stat('Ast')\n",
    "            bpg = pg_stat('Blk')\n",
    "            spg = pg_stat('Stl')\n",
    "            fpg = pg_stat('PF')\n",
    "            topg = pg_stat('TO')\n",
    "\n",
    "            possessions = 0.96 * (total_stat('FGA') - total_stat('OR') + total_stat('TO') + (0.475 * total_stat('FTA')))\n",
    "            offensive_rating = (total_stat('Score') * 100) / possessions\n",
    "            defensive_rating = ((losing_data['WScore'].sum() + winning_data['LScore'].sum()) * 100) / possessions\n",
    "            efgp = (total_stat('FGM') + 0.5 * 3 * total_stat('FGM3')) / total_stat('FGA')\n",
    "            true_shooting_percentage = total_stat('Score') / (2 * (total_stat('FGA') + (0.475 * total_stat('FTA'))))\n",
    "\n",
    "            to_add = pd.DataFrame([[season, seed, wp, papg, ppg, fgp, fgp3, orpg, drpg, ftp, apg, \\\n",
    "                                    bpg, spg, fpg, topg, offensive_rating, defensive_rating, efgp, true_shooting_percentage]], \\\n",
    "                                      columns=self.stats.columns)\n",
    "            self.stats = self.stats.append(to_add, ignore_index=True)\n",
    "        self.stats.index = self.relevant_teams\n",
    "        return self.stats\n",
    "\n",
    "all_stats = pd.DataFrame(columns=['season', 'seed', 'wp', 'papg', 'ppg', 'fgp', 'fgp3', 'orpg', \\\n",
    "                                          'drpg', 'ftp', 'apg', 'bpg', \\\n",
    "                                          'spg', 'fpg', 'topg', 'offensive_rating', 'defensive_rating', 'efgp', 'true_shooting_percentage'])\n",
    "for yr in range(2003, 2020):\n",
    "    all_stats = all_stats.append(SeasonStats(yr).get_stats())\n",
    "all_stats.to_csv('all_stats.csv')\n",
    "all_stats\n",
    "# We need to wait until Sunday on March 14 to know the relevant teams for 2020\n",
    "# SeasonStats(2020).save_stats()"
   ]
  },
  {
   "cell_type": "markdown",
   "metadata": {},
   "source": [
    "Let's also add round, winning seed, and losing seed to the tourney results and remove everything else."
   ]
  },
  {
   "cell_type": "code",
   "execution_count": 7,
   "metadata": {},
   "outputs": [
    {
     "output_type": "execute_result",
     "data": {
      "text/plain": [
       "      Season  DayNum  WTeamID  WScore  LTeamID  LScore WLoc  NumOT WSeed  \\\n",
       "0       1985     136     1116      63     1234      54    N      0   X09   \n",
       "1       1985     136     1120      59     1345      58    N      0   Z11   \n",
       "2       1985     136     1207      68     1250      43    N      0   W01   \n",
       "3       1985     136     1229      58     1425      55    N      0   Y09   \n",
       "4       1985     136     1242      49     1325      38    N      0   Z03   \n",
       "...      ...     ...      ...     ...      ...     ...  ...    ...   ...   \n",
       "2246    2019     146     1120      77     1246      71    N      1   Y05   \n",
       "2247    2019     146     1277      68     1181      67    N      0   W02   \n",
       "2248    2019     152     1403      61     1277      51    N      0   X03   \n",
       "2249    2019     152     1438      63     1120      62    N      0   Z01   \n",
       "2250    2019     154     1438      85     1403      77    N      1   Z01   \n",
       "\n",
       "     LSeed  Round  \n",
       "0      X08      1  \n",
       "1      Z06      1  \n",
       "2      W16      1  \n",
       "3      Y08      1  \n",
       "4      Z14      1  \n",
       "...    ...    ...  \n",
       "2246   Y02      4  \n",
       "2247   W01      4  \n",
       "2248   W02      5  \n",
       "2249   Y05      5  \n",
       "2250   X03      6  \n",
       "\n",
       "[2251 rows x 11 columns]"
      ],
      "text/html": "<div>\n<style scoped>\n    .dataframe tbody tr th:only-of-type {\n        vertical-align: middle;\n    }\n\n    .dataframe tbody tr th {\n        vertical-align: top;\n    }\n\n    .dataframe thead th {\n        text-align: right;\n    }\n</style>\n<table border=\"1\" class=\"dataframe\">\n  <thead>\n    <tr style=\"text-align: right;\">\n      <th></th>\n      <th>Season</th>\n      <th>DayNum</th>\n      <th>WTeamID</th>\n      <th>WScore</th>\n      <th>LTeamID</th>\n      <th>LScore</th>\n      <th>WLoc</th>\n      <th>NumOT</th>\n      <th>WSeed</th>\n      <th>LSeed</th>\n      <th>Round</th>\n    </tr>\n  </thead>\n  <tbody>\n    <tr>\n      <th>0</th>\n      <td>1985</td>\n      <td>136</td>\n      <td>1116</td>\n      <td>63</td>\n      <td>1234</td>\n      <td>54</td>\n      <td>N</td>\n      <td>0</td>\n      <td>X09</td>\n      <td>X08</td>\n      <td>1</td>\n    </tr>\n    <tr>\n      <th>1</th>\n      <td>1985</td>\n      <td>136</td>\n      <td>1120</td>\n      <td>59</td>\n      <td>1345</td>\n      <td>58</td>\n      <td>N</td>\n      <td>0</td>\n      <td>Z11</td>\n      <td>Z06</td>\n      <td>1</td>\n    </tr>\n    <tr>\n      <th>2</th>\n      <td>1985</td>\n      <td>136</td>\n      <td>1207</td>\n      <td>68</td>\n      <td>1250</td>\n      <td>43</td>\n      <td>N</td>\n      <td>0</td>\n      <td>W01</td>\n      <td>W16</td>\n      <td>1</td>\n    </tr>\n    <tr>\n      <th>3</th>\n      <td>1985</td>\n      <td>136</td>\n      <td>1229</td>\n      <td>58</td>\n      <td>1425</td>\n      <td>55</td>\n      <td>N</td>\n      <td>0</td>\n      <td>Y09</td>\n      <td>Y08</td>\n      <td>1</td>\n    </tr>\n    <tr>\n      <th>4</th>\n      <td>1985</td>\n      <td>136</td>\n      <td>1242</td>\n      <td>49</td>\n      <td>1325</td>\n      <td>38</td>\n      <td>N</td>\n      <td>0</td>\n      <td>Z03</td>\n      <td>Z14</td>\n      <td>1</td>\n    </tr>\n    <tr>\n      <th>...</th>\n      <td>...</td>\n      <td>...</td>\n      <td>...</td>\n      <td>...</td>\n      <td>...</td>\n      <td>...</td>\n      <td>...</td>\n      <td>...</td>\n      <td>...</td>\n      <td>...</td>\n      <td>...</td>\n    </tr>\n    <tr>\n      <th>2246</th>\n      <td>2019</td>\n      <td>146</td>\n      <td>1120</td>\n      <td>77</td>\n      <td>1246</td>\n      <td>71</td>\n      <td>N</td>\n      <td>1</td>\n      <td>Y05</td>\n      <td>Y02</td>\n      <td>4</td>\n    </tr>\n    <tr>\n      <th>2247</th>\n      <td>2019</td>\n      <td>146</td>\n      <td>1277</td>\n      <td>68</td>\n      <td>1181</td>\n      <td>67</td>\n      <td>N</td>\n      <td>0</td>\n      <td>W02</td>\n      <td>W01</td>\n      <td>4</td>\n    </tr>\n    <tr>\n      <th>2248</th>\n      <td>2019</td>\n      <td>152</td>\n      <td>1403</td>\n      <td>61</td>\n      <td>1277</td>\n      <td>51</td>\n      <td>N</td>\n      <td>0</td>\n      <td>X03</td>\n      <td>W02</td>\n      <td>5</td>\n    </tr>\n    <tr>\n      <th>2249</th>\n      <td>2019</td>\n      <td>152</td>\n      <td>1438</td>\n      <td>63</td>\n      <td>1120</td>\n      <td>62</td>\n      <td>N</td>\n      <td>0</td>\n      <td>Z01</td>\n      <td>Y05</td>\n      <td>5</td>\n    </tr>\n    <tr>\n      <th>2250</th>\n      <td>2019</td>\n      <td>154</td>\n      <td>1438</td>\n      <td>85</td>\n      <td>1403</td>\n      <td>77</td>\n      <td>N</td>\n      <td>1</td>\n      <td>Z01</td>\n      <td>X03</td>\n      <td>6</td>\n    </tr>\n  </tbody>\n</table>\n<p>2251 rows × 11 columns</p>\n</div>"
     },
     "metadata": {},
     "execution_count": 7
    }
   ],
   "source": [
    "tourney['WSeed'] = [seeds[(seeds.TeamID == id)&(seeds.Season == season)]['Seed'].item() \\\n",
    " for (id, season) in tourney[['WTeamID', 'Season']].values]\n",
    "tourney['LSeed'] = [seeds[(seeds.TeamID == id)&(seeds.Season == season)]['Seed'].item() \\\n",
    " for (id, season) in tourney[['LTeamID', 'Season']].values]\n",
    "def tourney_round(day_num):\n",
    "    if day_num == 134 or day_num == 135:\n",
    "        return 0 # play-in\n",
    "    elif day_num == 136 or day_num == 137:\n",
    "        return 1 # round of 64\n",
    "    elif day_num == 138 or day_num == 139:\n",
    "        return 2 # round of 32\n",
    "    elif day_num == 143 or day_num == 144:\n",
    "        return 3 # Sweet Sixteen\n",
    "    elif day_num == 145 or day_num == 146:\n",
    "        return 4 # Elite Eight\n",
    "    elif day_num == 152:\n",
    "        return 5 # Final Four\n",
    "    else:\n",
    "        return 6 # Championship\n",
    "tourney['Round'] = [tourney_round(day_num) for day_num in tourney['DayNum']]\n",
    "tourney.to_csv('TourneyCompactAugmented.csv')\n",
    "tourney"
   ]
  }
 ],
 "metadata": {
  "kernelspec": {
   "display_name": "Python 3",
   "language": "python",
   "name": "python3"
  },
  "language_info": {
   "codemirror_mode": {
    "name": "ipython",
    "version": 3
   },
   "file_extension": ".py",
   "mimetype": "text/x-python",
   "name": "python",
   "nbconvert_exporter": "python",
   "pygments_lexer": "ipython3",
   "version": "3.9.2-final"
  }
 },
 "nbformat": 4,
 "nbformat_minor": 4
}